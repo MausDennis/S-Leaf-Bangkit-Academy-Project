{
 "metadata": {
  "language_info": {
   "codemirror_mode": {
    "name": "ipython",
    "version": 3
   },
   "file_extension": ".py",
   "mimetype": "text/x-python",
   "name": "python",
   "nbconvert_exporter": "python",
   "pygments_lexer": "ipython3",
   "version": "3.8.5"
  },
  "orig_nbformat": 2,
  "kernelspec": {
   "name": "python385jvsc74a57bd07a379f6021147b60a0af445b7b971749dec1c9727e2f52e01b69fbcef0cfcb28",
   "display_name": "Python 3.8.5 64-bit ('bangkit': conda)"
  },
  "metadata": {
   "interpreter": {
    "hash": "7a379f6021147b60a0af445b7b971749dec1c9727e2f52e01b69fbcef0cfcb28"
   }
  }
 },
 "nbformat": 4,
 "nbformat_minor": 2,
 "cells": [
  {
   "source": [
    "# Prepare the Web Driver"
   ],
   "cell_type": "markdown",
   "metadata": {}
  },
  {
   "source": [
    "The tutorial is from https://towardsdatascience.com/image-scraping-with-python-a96feda8af2d"
   ],
   "cell_type": "markdown",
   "metadata": {}
  },
  {
   "cell_type": "code",
   "execution_count": 1,
   "metadata": {},
   "outputs": [],
   "source": [
    "from selenium import webdriver\n",
    "# This is the path I use\n",
    "# DRIVER_PATH = '.../Desktop/Scraping/chromedriver 2'\n",
    "# Put the path for your ChromeDriver here\n",
    "# If this error occurs: WebDriverException: Message: 'Webdrivers' executable may have wrong permissions.\n",
    "## See this post: https://stackoverflow.com/questions/47148872/webdrivers-executable-may-have-wrong-permissions-please-see-https-sites-goo\n",
    "\n",
    "DRIVER_PATH = '/home/shin/Bangkit Academy/CAPSTONE PROJECT/chromedriver_linux64/chromedriver'\n",
    "wd = webdriver.Chrome(executable_path=DRIVER_PATH)"
   ]
  },
  {
   "source": [
    "# Function: Scrap Images URLs"
   ],
   "cell_type": "markdown",
   "metadata": {}
  },
  {
   "cell_type": "code",
   "execution_count": 2,
   "metadata": {},
   "outputs": [],
   "source": [
    "import time\n",
    "\n",
    "def fetch_image_urls(query:str, max_links_to_fetch:int, wd:webdriver, sleep_between_interactions:int=1):\n",
    "    def scroll_to_end(wd):\n",
    "        wd.execute_script(\"window.scrollTo(0, document.body.scrollHeight);\")\n",
    "        time.sleep(sleep_between_interactions)    \n",
    "    \n",
    "    # build the google query\n",
    "    search_url = \"https://www.google.com/search?safe=off&site=&tbm=isch&source=hp&q={q}&oq={q}&gs_l=img\"\n",
    "\n",
    "    # load the page\n",
    "    wd.get(search_url.format(q=query))\n",
    "\n",
    "    image_urls = set()\n",
    "    image_count = 0\n",
    "    results_start = 0\n",
    "    while image_count < max_links_to_fetch:\n",
    "        scroll_to_end(wd)\n",
    "\n",
    "        # get all image thumbnail results\n",
    "        thumbnail_results = wd.find_elements_by_css_selector(\"img.Q4LuWd\")\n",
    "        number_results = len(thumbnail_results)\n",
    "        \n",
    "        print(f\"Found: {number_results} search results. Extracting links from {results_start}:{number_results}\")\n",
    "        \n",
    "        for img in thumbnail_results[results_start:number_results]:\n",
    "            # try to click every thumbnail such that we can get the real image behind it\n",
    "            try:\n",
    "                img.click()\n",
    "                time.sleep(sleep_between_interactions)\n",
    "            except Exception:\n",
    "                continue\n",
    "\n",
    "            # extract image urls    \n",
    "            actual_images = wd.find_elements_by_css_selector('img.n3VNCb')\n",
    "            for actual_image in actual_images:\n",
    "                if actual_image.get_attribute('src') and 'http' in actual_image.get_attribute('src'):\n",
    "                    image_urls.add(actual_image.get_attribute('src'))\n",
    "\n",
    "            image_count = len(image_urls)\n",
    "\n",
    "            if len(image_urls) >= max_links_to_fetch:\n",
    "                print(f\"Found: {len(image_urls)} image links, done!\")\n",
    "                break\n",
    "        else:\n",
    "            print(\"Found:\", len(image_urls), \"image links, looking for more ...\")\n",
    "            time.sleep(30)\n",
    "            return\n",
    "            load_more_button = wd.find_element_by_css_selector(\".mye4qd\")\n",
    "            if load_more_button:\n",
    "                wd.execute_script(\"document.querySelector('.mye4qd').click();\")\n",
    "\n",
    "        # move the result startpoint further down\n",
    "        results_start = len(thumbnail_results)\n",
    "\n",
    "    return image_urls"
   ]
  },
  {
   "source": [
    "# Function: Download Images from URLs"
   ],
   "cell_type": "markdown",
   "metadata": {}
  },
  {
   "cell_type": "code",
   "execution_count": 3,
   "metadata": {},
   "outputs": [],
   "source": [
    "from PIL import Image\n",
    "import os\n",
    "import io\n",
    "import requests\n",
    "import hashlib\n",
    "\n",
    "def persist_image(folder_path:str,url:str):\n",
    "    try:\n",
    "        image_content = requests.get(url).content\n",
    "\n",
    "    except Exception as e:\n",
    "        print(f\"ERROR - Could not download {url} - {e}\")\n",
    "\n",
    "    try:\n",
    "        image_file = io.BytesIO(image_content)\n",
    "        image = Image.open(image_file).convert('RGB')\n",
    "        file_path = os.path.join(folder_path,hashlib.sha1(image_content).hexdigest()[:10] + '.jpg')\n",
    "        with open(file_path, 'wb') as f:\n",
    "            image.save(f, \"JPEG\", quality=85)\n",
    "        print(f\"SUCCESS - saved {url} - as {file_path}\")\n",
    "    except Exception as e:\n",
    "        print(f\"ERROR - Could not save {url} - {e}\")"
   ]
  },
  {
   "source": [
    "# Webscrap"
   ],
   "cell_type": "markdown",
   "metadata": {}
  },
  {
   "cell_type": "code",
   "execution_count": 4,
   "metadata": {},
   "outputs": [],
   "source": [
    "input_filename = 'nama_tumbuhan.txt' # file containing list of plants to be searched\n",
    "target_folder = 'images/'   # folder to save the images\n",
    "max_images_per_keyword = 3"
   ]
  },
  {
   "cell_type": "code",
   "execution_count": 5,
   "metadata": {},
   "outputs": [
    {
     "output_type": "stream",
     "name": "stdout",
     "text": [
      "Found: 100 search results. Extracting links from 0:100\n",
      "Found: 3 image links, done!\n",
      "SUCCESS - saved https://www.nugrahaorchid.com/wp-content/uploads/2019/08/daun-anggrek-bulan.jpg - as images/anggrek/d65df992d3.jpg\n",
      "SUCCESS - saved https://id-test-11.slatic.net/p/563957f385fd899e1cdd708d6db627cc.jpg_720x720q80.jpg_.webp - as images/anggrek/9f56a36e52.jpg\n",
      "SUCCESS - saved https://i.ytimg.com/vi/NkGMNFOr10E/maxresdefault.jpg - as images/anggrek/f57a5e40f1.jpg\n",
      "Found: 100 search results. Extracting links from 0:100\n",
      "Found: 3 image links, done!\n",
      "SUCCESS - saved https://id-test-11.slatic.net/p/6bd54a65e76bc64419b031dd3b38b224.jpg_720x720q80.jpg_.webp - as images/mawar/9615165327.jpg\n",
      "SUCCESS - saved https://images.tokopedia.net/img/cache/700/product-1/2017/1/31/615970/615970_6cbbcb41-0334-4a89-98e5-34a32c9d9646.jpg - as images/mawar/bd1acc6fba.jpg\n",
      "SUCCESS - saved https://ae01.alicdn.com/kf/HTB1upYBOVXXXXX4aFXXq6xXFXXXT.jpg_q50.jpg - as images/mawar/513abe5fcc.jpg\n",
      "Found: 100 search results. Extracting links from 0:100\n",
      "Found: 3 image links, done!\n",
      "SUCCESS - saved http://4.bp.blogspot.com/_zwVYq8NdRIs/S7x6OaP0kpI/AAAAAAAAA00/0k2PcwPlN8I/s1600/Jasminum_sambac1.jpg - as images/melati/9607ce7cb6.jpg\n",
      "SUCCESS - saved https://asset.kompas.com/crops/GsCK7f1J2LBFTm1PxmV46i6yku0=/0x22:968x667/750x500/data/photo/2020/11/26/5fbf365e696a5.jpg - as images/melati/5eca41426b.jpg\n",
      "SUCCESS - saved https://upload.wikimedia.org/wikipedia/commons/a/ac/JasminumSambac2.jpg - as images/melati/0cda49ac38.jpg\n",
      "Found: 100 search results. Extracting links from 0:100\n",
      "Found: 3 image links, done!\n",
      "SUCCESS - saved https://jovee.id/wp-content/uploads/2020/06/Daun_Mangga.jpg - as images/mangga/8e25739fd4.jpg\n",
      "SUCCESS - saved https://cdn-asset.jawapos.com/wp-content/uploads/2019/07/daun-mangga-640x447.jpg - as images/mangga/77538329f8.jpg\n",
      "SUCCESS - saved https://img.okezone.com/content/2019/07/15/481/2078831/6-khasiat-tak-terduga-daun-mangga-untuk-kesehatan-tubuh-HWW06xwGaB.jpg - as images/mangga/bbdff0e7f7.jpg\n",
      "Found: 100 search results. Extracting links from 0:100\n",
      "Found: 3 image links, done!\n",
      "SUCCESS - saved https://asset-a.grid.id//crop/0x0:0x0/700x465/photo/2019/02/06/3420882052.jpg - as images/kelapa/9d8dfa7bc6.jpg\n",
      "SUCCESS - saved https://cf.shopee.co.id/file/7fb166326f3b6ed617015073e7801cf9 - as images/kelapa/a498d3c0d0.jpg\n",
      "SUCCESS - saved https://www.static-src.com/wcsstore/Indraprastha/images/catalog/full//99/MTA-8723349/oem_pajangan_dinding_rumah_hiasan_shabby_chic_motif_daun_kelapa_full01_krvk8zbj.jpg - as images/kelapa/660be84a99.jpg\n",
      "Found: 100 search results. Extracting links from 0:100\n",
      "Found: 3 image links, done!\n",
      "SUCCESS - saved https://blogpictures.99.co/manfaat-daun-singkong.jpg - as images/singkong/3b3d414a18.jpg\n",
      "SUCCESS - saved https://cdn1-production-images-kly.akamaized.net/Q1N7ghskk7qUjWfhi-fxrRzdHJM=/640x480/smart/filters:quality(75):strip_icc():format(jpeg)/kly-media-production/medias/2817327/original/065369100_1559018770-cassava-leaves-878933_1920.jpg - as images/singkong/13a9764e5b.jpg\n",
      "SUCCESS - saved https://cdns.klimg.com/dream.co.id/resized/640x320/news/2019/08/30/116145/21-manfaat-daun-singkong-bagi-kesehatan-tubuh-dan-cara-pakainya-190830e.jpg - as images/singkong/a8dd4de595.jpg\n",
      "Found: 100 search results. Extracting links from 0:100\n",
      "Found: 3 image links, done!\n",
      "SUCCESS - saved https://deslisumatran.files.wordpress.com/2013/12/tebu.jpg?w=470 - as images/tebu/65502ae5c2.jpg\n",
      "SUCCESS - saved https://cf.shopee.co.id/file/6ddf93c8713c56d19e79aa0820894b89 - as images/tebu/6e56340f67.jpg\n",
      "SUCCESS - saved https://rayakultura.net/wp-content/uploads/2019/04/daun-tebu-keemasan.jpg - as images/tebu/76c63a67c9.jpg\n",
      "Found: 100 search results. Extracting links from 0:100\n",
      "Found: 3 image links, done!\n",
      "SUCCESS - saved https://s3-ap-southeast-1.amazonaws.com/8villages/340b1db2-e9b4-45be-8765-f9a8772e0a41-mobile.jpg - as images/padi/cd7b73fb53.jpg\n",
      "SUCCESS - saved https://assets.corteva.com/is/image/Corteva/ar4-12jun20?$image_desktop$ - as images/padi/907eab95c8.jpg\n",
      "SUCCESS - saved https://pertanian.kulonprogokab.go.id/files/news/normal/f41f8d59f7a28b79d8f83a3be0e24789.jpg - as images/padi/c4d9f65b74.jpg\n",
      "Found: 100 search results. Extracting links from 0:100\n",
      "Found: 3 image links, done!\n",
      "SUCCESS - saved https://images.tokopedia.net/img/cache/700/product-1/2018/4/16/23753723/23753723_937d4178-9956-4e49-a7c2-fe4b63756fe6_2048_2730.jpg - as images/bayam/d1ed5c8b09.jpg\n",
      "SUCCESS - saved https://s4.bukalapak.com/img/9510393473/large/daunbayamfresh_1_scaledjpg_scaled.jpg - as images/bayam/0add515afb.jpg\n",
      "SUCCESS - saved https://cdn.shopify.com/s/files/1/0369/8321/0116/products/bayam1_500x.jpg?v=1587858962 - as images/bayam/10ffae519e.jpg\n",
      "Found: 100 search results. Extracting links from 0:100\n",
      "Found: 3 image links, done!\n",
      "SUCCESS - saved https://cdns.klimg.com/merdeka.com/i/w/news/2019/12/02/1130344/540x270/7-manfaat-daun-jambu-biji-istimewa-bisa-obati-penyakit-gusi.jpg - as images/jambu/02327ecd5d.jpg\n",
      "SUCCESS - saved https://faktualnews.co/images/2018/08/daun-jambu-biji.jpg - as images/jambu/a431780354.jpg\n",
      "SUCCESS - saved https://cdn1-production-images-kly.akamaized.net/79au6JS4J9AItpADv45ybZiqR8A=/640x360/smart/filters:quality(75):strip_icc():format(jpeg)/kly-media-production/medias/857533/original/012569800_1429593214-Daun_Jambu_Biji.jpg - as images/jambu/d6e9ff97b2.jpg\n",
      "Found: 100 search results. Extracting links from 0:100\n",
      "Found: 3 image links, done!\n",
      "SUCCESS - saved https://1.bp.blogspot.com/-1Y3OA7NRphw/XZhDtLen0aI/AAAAAAABKIs/i7qO135b5WUgcCzWbUqWw7K0JPe60_5dACLcBGAsYHQ/w1200-h630-p-k-no-nu/Permukaan%2BDaun%2BTeratai%2BTidak%2BBisa%2BBasah%2Bpixbay%2Bcom.jpg - as images/teratai/1e7c7fbe80.jpg\n",
      "SUCCESS - saved https://cms.sehatq.com/public/img/article_img/manfaat-bunga-teratai-yang-tak-disangka-sangka-1579658180.jpg - as images/teratai/6bbd6e7509.jpg\n",
      "SUCCESS - saved https://upload.wikimedia.org/wikipedia/commons/thumb/d/d8/Seerosen_wei%C3%9F.jpg/270px-Seerosen_wei%C3%9F.jpg - as images/teratai/566ed0cb05.jpg\n",
      "Found: 100 search results. Extracting links from 0:100\n",
      "Found: 3 image links, done!\n",
      "SUCCESS - saved https://cf.shopee.co.id/file/bd701723ee8f9fce7d5cdf559b43b089 - as images/lidar_buaya/8efe97257b.jpg\n",
      "SUCCESS - saved https://id-test-11.slatic.net/p/16/pelepah-lidah-buaya-daun-lidah-buaya-dijamin-bebas-peptisida-0136-78971294-1259f781b7d24ec679c6b069d2860933-catalog.jpg_720x720q80.jpg_.webp - as images/lidar_buaya/acf4c56e25.jpg\n",
      "SUCCESS - saved https://cdn-2.tstatic.net/tribunnews/foto/bank/images/lidah-buaya-oke.jpg - as images/lidar_buaya/a4a9cbad31.jpg\n"
     ]
    }
   ],
   "source": [
    "f = open(input_filename, 'r')\n",
    "lines = f.readlines()\n",
    "for line in lines:\n",
    "    line = line.strip()\n",
    "    keyword = 'daun ' + line\n",
    "    folder_to_save = os.path.join(target_folder, line.replace(' ', '_'))\n",
    "    try:\n",
    "        os.mkdir(folder_to_save)\n",
    "    except:\n",
    "        pass\n",
    "    urls = fetch_image_urls(query=keyword, max_links_to_fetch=max_images_per_keyword, wd=wd, sleep_between_interactions=1)\n",
    "\n",
    "    # save images from URLs\n",
    "    for url in urls:\n",
    "        persist_image(folder_path=folder_to_save, url=url)"
   ]
  },
  {
   "source": [
    "# Close the Web Driver"
   ],
   "cell_type": "markdown",
   "metadata": {}
  },
  {
   "cell_type": "code",
   "execution_count": null,
   "metadata": {},
   "outputs": [],
   "source": [
    "wd.close()"
   ]
  }
 ]
}